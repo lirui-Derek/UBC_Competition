{
 "cells": [
  {
   "cell_type": "markdown",
   "id": "db28ff55",
   "metadata": {
    "papermill": {
     "duration": 0.007398,
     "end_time": "2023-11-02T05:45:38.388564",
     "exception": false,
     "start_time": "2023-11-02T05:45:38.381166",
     "status": "completed"
    },
    "tags": []
   },
   "source": [
    "# <span><h1 style = \"font-family: garamond; font-size: 40px; font-style: normal; letter-spcaing: 3px; background-color: #f6f5f5; color :#fe346e; border-radius: 100px 100px; text-align:center\">Import Required Libraries 📚</h1></span>"
   ]
  },
  {
   "cell_type": "code",
   "execution_count": 1,
   "id": "68a1dd8a",
   "metadata": {
    "execution": {
     "iopub.execute_input": "2023-11-02T05:45:38.404218Z",
     "iopub.status.busy": "2023-11-02T05:45:38.403547Z",
     "iopub.status.idle": "2023-11-02T05:45:46.355569Z",
     "shell.execute_reply": "2023-11-02T05:45:46.354813Z"
    },
    "papermill": {
     "duration": 7.962218,
     "end_time": "2023-11-02T05:45:46.357729",
     "exception": false,
     "start_time": "2023-11-02T05:45:38.395511",
     "status": "completed"
    },
    "tags": []
   },
   "outputs": [
    {
     "name": "stderr",
     "output_type": "stream",
     "text": [
      "/opt/conda/lib/python3.10/site-packages/scipy/__init__.py:146: UserWarning: A NumPy version >=1.16.5 and <1.23.0 is required for this version of SciPy (detected version 1.23.5\n",
      "  warnings.warn(f\"A NumPy version >={np_minversion} and <{np_maxversion}\"\n"
     ]
    }
   ],
   "source": [
    "import os\n",
    "import gc\n",
    "import cv2\n",
    "import math\n",
    "import copy\n",
    "import time\n",
    "import random\n",
    "import glob\n",
    "from matplotlib import pyplot as plt\n",
    "\n",
    "# For data manipulation\n",
    "import numpy as np\n",
    "import pandas as pd\n",
    "\n",
    "# Pytorch Imports\n",
    "import torch\n",
    "import torch.nn as nn\n",
    "import torch.optim as optim\n",
    "import torch.nn.functional as F\n",
    "from torch.optim import lr_scheduler\n",
    "from torch.utils.data import Dataset, DataLoader\n",
    "from torch.cuda import amp\n",
    "import torchvision\n",
    "\n",
    "# Utils\n",
    "import joblib\n",
    "from tqdm import tqdm\n",
    "from collections import defaultdict\n",
    "\n",
    "# Sklearn Imports\n",
    "from sklearn.preprocessing import LabelEncoder\n",
    "from sklearn.model_selection import StratifiedKFold\n",
    "\n",
    "# For Image Models\n",
    "import timm\n",
    "\n",
    "# Albumentations for augmentations\n",
    "import albumentations as A\n",
    "from albumentations.pytorch import ToTensorV2\n",
    "\n",
    "# For colored terminal text\n",
    "from colorama import Fore, Back, Style\n",
    "b_ = Fore.BLUE\n",
    "sr_ = Style.RESET_ALL\n",
    "\n",
    "import warnings\n",
    "warnings.filterwarnings(\"ignore\")\n",
    "\n",
    "# For descriptive error messages\n",
    "os.environ['CUDA_LAUNCH_BLOCKING'] = \"1\""
   ]
  },
  {
   "cell_type": "markdown",
   "id": "8d5f6cb5",
   "metadata": {
    "papermill": {
     "duration": 0.006906,
     "end_time": "2023-11-02T05:45:46.372039",
     "exception": false,
     "start_time": "2023-11-02T05:45:46.365133",
     "status": "completed"
    },
    "tags": []
   },
   "source": [
    "# <span><h1 style = \"font-family: garamond; font-size: 40px; font-style: normal; letter-spcaing: 3px; background-color: #f6f5f5; color :#fe346e; border-radius: 100px 100px; text-align:center\">Training Configuration ⚙️</h1></span>"
   ]
  },
  {
   "cell_type": "code",
   "execution_count": 2,
   "id": "db0221b1",
   "metadata": {
    "execution": {
     "iopub.execute_input": "2023-11-02T05:45:46.387061Z",
     "iopub.status.busy": "2023-11-02T05:45:46.386667Z",
     "iopub.status.idle": "2023-11-02T05:45:46.451929Z",
     "shell.execute_reply": "2023-11-02T05:45:46.451060Z"
    },
    "papermill": {
     "duration": 0.074994,
     "end_time": "2023-11-02T05:45:46.453884",
     "exception": false,
     "start_time": "2023-11-02T05:45:46.378890",
     "status": "completed"
    },
    "tags": []
   },
   "outputs": [],
   "source": [
    "CONFIG = {\n",
    "    \"seed\": 42,\n",
    "    \"img_size\": 512,\n",
    "    \"model_name\": \"tf_efficientnetv2_s_in21ft1k\",\n",
    "    \"num_classes\": 5,\n",
    "    \"valid_batch_size\": 64,\n",
    "    \"device\": torch.device(\"cuda:0\" if torch.cuda.is_available() else \"cpu\"),\n",
    "}"
   ]
  },
  {
   "cell_type": "markdown",
   "id": "fd38a62b",
   "metadata": {
    "papermill": {
     "duration": 0.00664,
     "end_time": "2023-11-02T05:45:46.467553",
     "exception": false,
     "start_time": "2023-11-02T05:45:46.460913",
     "status": "completed"
    },
    "tags": []
   },
   "source": [
    "# <span><h1 style = \"font-family: garamond; font-size: 40px; font-style: normal; letter-spcaing: 3px; background-color: #f6f5f5; color :#fe346e; border-radius: 100px 100px; text-align:center\">Set Seed for Reproducibility</h1></span>"
   ]
  },
  {
   "cell_type": "code",
   "execution_count": 3,
   "id": "434580df",
   "metadata": {
    "execution": {
     "iopub.execute_input": "2023-11-02T05:45:46.482261Z",
     "iopub.status.busy": "2023-11-02T05:45:46.481947Z",
     "iopub.status.idle": "2023-11-02T05:45:46.491513Z",
     "shell.execute_reply": "2023-11-02T05:45:46.490685Z"
    },
    "papermill": {
     "duration": 0.019093,
     "end_time": "2023-11-02T05:45:46.493377",
     "exception": false,
     "start_time": "2023-11-02T05:45:46.474284",
     "status": "completed"
    },
    "tags": []
   },
   "outputs": [],
   "source": [
    "def set_seed(seed=42):\n",
    "    '''Sets the seed of the entire notebook so results are the same every time we run.\n",
    "    This is for REPRODUCIBILITY.'''\n",
    "    np.random.seed(seed)\n",
    "    torch.manual_seed(seed)\n",
    "    torch.cuda.manual_seed(seed)\n",
    "    # When running on the CuDNN backend, two further options must be set\n",
    "    torch.backends.cudnn.deterministic = True\n",
    "    torch.backends.cudnn.benchmark = False\n",
    "    # Set a fixed value for the hash seed\n",
    "    os.environ['PYTHONHASHSEED'] = str(seed)\n",
    "    \n",
    "set_seed(CONFIG['seed'])"
   ]
  },
  {
   "cell_type": "code",
   "execution_count": 4,
   "id": "33d0b908",
   "metadata": {
    "execution": {
     "iopub.execute_input": "2023-11-02T05:45:46.508509Z",
     "iopub.status.busy": "2023-11-02T05:45:46.507881Z",
     "iopub.status.idle": "2023-11-02T05:45:46.512433Z",
     "shell.execute_reply": "2023-11-02T05:45:46.511701Z"
    },
    "papermill": {
     "duration": 0.014065,
     "end_time": "2023-11-02T05:45:46.514297",
     "exception": false,
     "start_time": "2023-11-02T05:45:46.500232",
     "status": "completed"
    },
    "tags": []
   },
   "outputs": [],
   "source": [
    "ROOT_DIR = '/kaggle/input/UBC-OCEAN'\n",
    "TEST_DIR = '/kaggle/input/UBC-OCEAN/test_thumbnails'\n",
    "ALT_TEST_DIR = '/kaggle/input/UBC-OCEAN/test_images'\n",
    "LABEL_ENCODER_BIN = \"/kaggle/input/ubcpytorchwith-classweights-training-fold1of5/label_encoder.pkl\"\n",
    "BEST_WEIGHT = \"/kaggle/input/ubcpytorchwith-classweights-training-fold1of5/Acc0.66_Loss1.0244_epoch16.bin\"\n",
    "BEST_WEIGHT1 = \"/kaggle/input/ubc-train-book/model-fold-2-Acc0.7057.bin\"\n",
    "#BEST_WEIGHT2 = \"/kaggle/input/ubc-train-book/model-fold-0-Acc0.6518.bin\"\n",
    "#BEST_WEIGHT3 = \"/kaggle/input/ubc-train-book/model-fold-2-Acc0.7057.bin\"\n",
    "#BEST_WEIGHT4 = \"/kaggle/input/baseline-0-36/Acc0.70_Loss1.0140_epoch29_tf_efficientnetv2_s_in21ft1k_0.36.bin\""
   ]
  },
  {
   "cell_type": "code",
   "execution_count": 5,
   "id": "5fff726c",
   "metadata": {
    "execution": {
     "iopub.execute_input": "2023-11-02T05:45:46.528942Z",
     "iopub.status.busy": "2023-11-02T05:45:46.528671Z",
     "iopub.status.idle": "2023-11-02T05:45:46.532829Z",
     "shell.execute_reply": "2023-11-02T05:45:46.532045Z"
    },
    "papermill": {
     "duration": 0.013463,
     "end_time": "2023-11-02T05:45:46.534665",
     "exception": false,
     "start_time": "2023-11-02T05:45:46.521202",
     "status": "completed"
    },
    "tags": []
   },
   "outputs": [],
   "source": [
    "def get_test_file_path(image_id):\n",
    "    if os.path.exists(f\"{TEST_DIR}/{image_id}_thumbnail.png\"):\n",
    "        return f\"{TEST_DIR}/{image_id}_thumbnail.png\"\n",
    "    else:\n",
    "        return f\"{ALT_TEST_DIR}/{image_id}.png\""
   ]
  },
  {
   "cell_type": "markdown",
   "id": "6a94d7f2",
   "metadata": {
    "papermill": {
     "duration": 0.006704,
     "end_time": "2023-11-02T05:45:46.548171",
     "exception": false,
     "start_time": "2023-11-02T05:45:46.541467",
     "status": "completed"
    },
    "tags": []
   },
   "source": [
    "# <h1 style = \"font-family: garamond; font-size: 40px; font-style: normal; letter-spcaing: 3px; background-color: #f6f5f5; color :#fe346e; border-radius: 100px 100px; text-align:center\">Read the Data 📖</h1>"
   ]
  },
  {
   "cell_type": "code",
   "execution_count": 6,
   "id": "7d1ee1c1",
   "metadata": {
    "execution": {
     "iopub.execute_input": "2023-11-02T05:45:46.562783Z",
     "iopub.status.busy": "2023-11-02T05:45:46.562544Z",
     "iopub.status.idle": "2023-11-02T05:45:46.592684Z",
     "shell.execute_reply": "2023-11-02T05:45:46.591853Z"
    },
    "papermill": {
     "duration": 0.039498,
     "end_time": "2023-11-02T05:45:46.594529",
     "exception": false,
     "start_time": "2023-11-02T05:45:46.555031",
     "status": "completed"
    },
    "tags": []
   },
   "outputs": [
    {
     "data": {
      "text/html": [
       "<div>\n",
       "<style scoped>\n",
       "    .dataframe tbody tr th:only-of-type {\n",
       "        vertical-align: middle;\n",
       "    }\n",
       "\n",
       "    .dataframe tbody tr th {\n",
       "        vertical-align: top;\n",
       "    }\n",
       "\n",
       "    .dataframe thead th {\n",
       "        text-align: right;\n",
       "    }\n",
       "</style>\n",
       "<table border=\"1\" class=\"dataframe\">\n",
       "  <thead>\n",
       "    <tr style=\"text-align: right;\">\n",
       "      <th></th>\n",
       "      <th>image_id</th>\n",
       "      <th>image_width</th>\n",
       "      <th>image_height</th>\n",
       "      <th>file_path</th>\n",
       "      <th>label</th>\n",
       "    </tr>\n",
       "  </thead>\n",
       "  <tbody>\n",
       "    <tr>\n",
       "      <th>0</th>\n",
       "      <td>41</td>\n",
       "      <td>28469</td>\n",
       "      <td>16987</td>\n",
       "      <td>/kaggle/input/UBC-OCEAN/test_thumbnails/41_thu...</td>\n",
       "      <td>0</td>\n",
       "    </tr>\n",
       "  </tbody>\n",
       "</table>\n",
       "</div>"
      ],
      "text/plain": [
       "   image_id  image_width  image_height  \\\n",
       "0        41        28469         16987   \n",
       "\n",
       "                                           file_path  label  \n",
       "0  /kaggle/input/UBC-OCEAN/test_thumbnails/41_thu...      0  "
      ]
     },
     "execution_count": 6,
     "metadata": {},
     "output_type": "execute_result"
    }
   ],
   "source": [
    "df = pd.read_csv(f\"{ROOT_DIR}/test.csv\")\n",
    "df['file_path'] = df['image_id'].apply(get_test_file_path)\n",
    "df['label'] = 0 # dummy\n",
    "df"
   ]
  },
  {
   "cell_type": "code",
   "execution_count": 7,
   "id": "55713be4",
   "metadata": {
    "execution": {
     "iopub.execute_input": "2023-11-02T05:45:46.610218Z",
     "iopub.status.busy": "2023-11-02T05:45:46.609964Z",
     "iopub.status.idle": "2023-11-02T05:45:46.620412Z",
     "shell.execute_reply": "2023-11-02T05:45:46.619592Z"
    },
    "papermill": {
     "duration": 0.020378,
     "end_time": "2023-11-02T05:45:46.622314",
     "exception": false,
     "start_time": "2023-11-02T05:45:46.601936",
     "status": "completed"
    },
    "tags": []
   },
   "outputs": [
    {
     "data": {
      "text/html": [
       "<div>\n",
       "<style scoped>\n",
       "    .dataframe tbody tr th:only-of-type {\n",
       "        vertical-align: middle;\n",
       "    }\n",
       "\n",
       "    .dataframe tbody tr th {\n",
       "        vertical-align: top;\n",
       "    }\n",
       "\n",
       "    .dataframe thead th {\n",
       "        text-align: right;\n",
       "    }\n",
       "</style>\n",
       "<table border=\"1\" class=\"dataframe\">\n",
       "  <thead>\n",
       "    <tr style=\"text-align: right;\">\n",
       "      <th></th>\n",
       "      <th>image_id</th>\n",
       "      <th>label</th>\n",
       "    </tr>\n",
       "  </thead>\n",
       "  <tbody>\n",
       "    <tr>\n",
       "      <th>0</th>\n",
       "      <td>41</td>\n",
       "      <td>HGSC</td>\n",
       "    </tr>\n",
       "  </tbody>\n",
       "</table>\n",
       "</div>"
      ],
      "text/plain": [
       "   image_id label\n",
       "0        41  HGSC"
      ]
     },
     "execution_count": 7,
     "metadata": {},
     "output_type": "execute_result"
    }
   ],
   "source": [
    "df_sub = pd.read_csv(f\"{ROOT_DIR}/sample_submission.csv\")\n",
    "df_sub"
   ]
  },
  {
   "cell_type": "code",
   "execution_count": 8,
   "id": "27edd695",
   "metadata": {
    "execution": {
     "iopub.execute_input": "2023-11-02T05:45:46.637708Z",
     "iopub.status.busy": "2023-11-02T05:45:46.637470Z",
     "iopub.status.idle": "2023-11-02T05:45:46.647184Z",
     "shell.execute_reply": "2023-11-02T05:45:46.646074Z"
    },
    "papermill": {
     "duration": 0.019655,
     "end_time": "2023-11-02T05:45:46.649217",
     "exception": false,
     "start_time": "2023-11-02T05:45:46.629562",
     "status": "completed"
    },
    "tags": []
   },
   "outputs": [],
   "source": [
    "encoder = joblib.load( LABEL_ENCODER_BIN )"
   ]
  },
  {
   "cell_type": "markdown",
   "id": "1230cb93",
   "metadata": {
    "papermill": {
     "duration": 0.007007,
     "end_time": "2023-11-02T05:45:46.663507",
     "exception": false,
     "start_time": "2023-11-02T05:45:46.656500",
     "status": "completed"
    },
    "tags": []
   },
   "source": [
    "# <span><h1 style = \"font-family: garamond; font-size: 40px; font-style: normal; letter-spcaing: 3px; background-color: #f6f5f5; color :#fe346e; border-radius: 100px 100px; text-align:center\">Dataset Class</h1></span>"
   ]
  },
  {
   "cell_type": "code",
   "execution_count": 9,
   "id": "b05b159c",
   "metadata": {
    "execution": {
     "iopub.execute_input": "2023-11-02T05:45:46.679296Z",
     "iopub.status.busy": "2023-11-02T05:45:46.678767Z",
     "iopub.status.idle": "2023-11-02T05:45:46.685706Z",
     "shell.execute_reply": "2023-11-02T05:45:46.684958Z"
    },
    "papermill": {
     "duration": 0.016872,
     "end_time": "2023-11-02T05:45:46.687571",
     "exception": false,
     "start_time": "2023-11-02T05:45:46.670699",
     "status": "completed"
    },
    "tags": []
   },
   "outputs": [],
   "source": [
    "class UBCDataset(Dataset):\n",
    "    def __init__(self, df, transforms=None):\n",
    "        self.df = df\n",
    "        self.file_names = df['file_path'].values\n",
    "        self.labels = df['label'].values\n",
    "        self.transforms = transforms\n",
    "        \n",
    "    def __len__(self):\n",
    "        return len(self.df)\n",
    "    \n",
    "    def __getitem__(self, index):\n",
    "        img_path = self.file_names[index]\n",
    "        img = cv2.imread(img_path)\n",
    "        img = cv2.cvtColor(img, cv2.COLOR_BGR2RGB)\n",
    "        label = self.labels[index]\n",
    "        \n",
    "        if self.transforms:\n",
    "            img = self.transforms(image=img)[\"image\"]\n",
    "            \n",
    "        return {\n",
    "            'image': img,\n",
    "            'label': torch.tensor(label, dtype=torch.long)\n",
    "        }"
   ]
  },
  {
   "cell_type": "markdown",
   "id": "d6a43df5",
   "metadata": {
    "papermill": {
     "duration": 0.007004,
     "end_time": "2023-11-02T05:45:46.701973",
     "exception": false,
     "start_time": "2023-11-02T05:45:46.694969",
     "status": "completed"
    },
    "tags": []
   },
   "source": [
    "# <span><h1 style = \"font-family: garamond; font-size: 40px; font-style: normal; letter-spcaing: 3px; background-color: #f6f5f5; color :#fe346e; border-radius: 100px 100px; text-align:center\">Augmentations</h1></span>"
   ]
  },
  {
   "cell_type": "code",
   "execution_count": 10,
   "id": "e7c59078",
   "metadata": {
    "execution": {
     "iopub.execute_input": "2023-11-02T05:45:46.717246Z",
     "iopub.status.busy": "2023-11-02T05:45:46.716971Z",
     "iopub.status.idle": "2023-11-02T05:45:46.722163Z",
     "shell.execute_reply": "2023-11-02T05:45:46.721387Z"
    },
    "papermill": {
     "duration": 0.014884,
     "end_time": "2023-11-02T05:45:46.724039",
     "exception": false,
     "start_time": "2023-11-02T05:45:46.709155",
     "status": "completed"
    },
    "tags": []
   },
   "outputs": [],
   "source": [
    "data_transforms = {\n",
    "    \"valid\": A.Compose([\n",
    "        A.Resize(CONFIG['img_size'], CONFIG['img_size']),\n",
    "        A.Normalize(\n",
    "                mean=[0.485, 0.456, 0.406], \n",
    "                std=[0.229, 0.224, 0.225], \n",
    "                max_pixel_value=255.0, \n",
    "                p=1.0\n",
    "            ),\n",
    "        ToTensorV2()], p=1.)\n",
    "}"
   ]
  },
  {
   "cell_type": "markdown",
   "id": "656e1d67",
   "metadata": {
    "papermill": {
     "duration": 0.006918,
     "end_time": "2023-11-02T05:45:46.738405",
     "exception": false,
     "start_time": "2023-11-02T05:45:46.731487",
     "status": "completed"
    },
    "tags": []
   },
   "source": [
    "# <span><h1 style = \"font-family: garamond; font-size: 40px; font-style: normal; letter-spcaing: 3px; background-color: #f6f5f5; color :#fe346e; border-radius: 100px 100px; text-align:center\">GeM Pooling</h1></span>\n",
    "\n",
    "<span style=\"color: #000508; font-family: Segoe UI; font-size: 1.5em; font-weight: 300;\">Code taken from <a href=\"https://amaarora.github.io/2020/08/30/gempool.html\">GeM Pooling Explained</a></span>\n",
    "\n",
    "![](https://i.imgur.com/thTgYWG.jpg)"
   ]
  },
  {
   "cell_type": "code",
   "execution_count": 11,
   "id": "840d5623",
   "metadata": {
    "execution": {
     "iopub.execute_input": "2023-11-02T05:45:46.753586Z",
     "iopub.status.busy": "2023-11-02T05:45:46.753347Z",
     "iopub.status.idle": "2023-11-02T05:45:46.760480Z",
     "shell.execute_reply": "2023-11-02T05:45:46.759742Z"
    },
    "papermill": {
     "duration": 0.016796,
     "end_time": "2023-11-02T05:45:46.762310",
     "exception": false,
     "start_time": "2023-11-02T05:45:46.745514",
     "status": "completed"
    },
    "tags": []
   },
   "outputs": [],
   "source": [
    "class GeM(nn.Module):\n",
    "    def __init__(self, p=3, eps=1e-6):\n",
    "        super(GeM, self).__init__()\n",
    "        self.p = nn.Parameter(torch.ones(1)*p)\n",
    "        self.eps = eps\n",
    "\n",
    "    def forward(self, x):\n",
    "        return self.gem(x, p=self.p, eps=self.eps)\n",
    "        \n",
    "    def gem(self, x, p=3, eps=1e-6):\n",
    "        return F.avg_pool2d(x.clamp(min=eps).pow(p), (x.size(-2), x.size(-1))).pow(1./p)\n",
    "        \n",
    "    def __repr__(self):\n",
    "        return self.__class__.__name__ + \\\n",
    "                '(' + 'p=' + '{:.4f}'.format(self.p.data.tolist()[0]) + \\\n",
    "                ', ' + 'eps=' + str(self.eps) + ')'"
   ]
  },
  {
   "cell_type": "markdown",
   "id": "e30acdca",
   "metadata": {
    "papermill": {
     "duration": 0.006903,
     "end_time": "2023-11-02T05:45:46.776405",
     "exception": false,
     "start_time": "2023-11-02T05:45:46.769502",
     "status": "completed"
    },
    "tags": []
   },
   "source": [
    "# <span><h1 style = \"font-family: garamond; font-size: 40px; font-style: normal; letter-spcaing: 3px; background-color: #f6f5f5; color :#fe346e; border-radius: 100px 100px; text-align:center\">Create Model</h1></span>"
   ]
  },
  {
   "cell_type": "code",
   "execution_count": 12,
   "id": "cf636496",
   "metadata": {
    "execution": {
     "iopub.execute_input": "2023-11-02T05:45:46.791488Z",
     "iopub.status.busy": "2023-11-02T05:45:46.791245Z",
     "iopub.status.idle": "2023-11-02T05:45:46.797800Z",
     "shell.execute_reply": "2023-11-02T05:45:46.797051Z"
    },
    "papermill": {
     "duration": 0.016204,
     "end_time": "2023-11-02T05:45:46.799662",
     "exception": false,
     "start_time": "2023-11-02T05:45:46.783458",
     "status": "completed"
    },
    "tags": []
   },
   "outputs": [],
   "source": [
    "class UBCModel(nn.Module):\n",
    "    def __init__(self, model_name, num_classes, pretrained=False, checkpoint_path=None):\n",
    "        super(UBCModel, self).__init__()\n",
    "        self.model = timm.create_model(model_name, pretrained=pretrained)\n",
    "\n",
    "        in_features = self.model.classifier.in_features\n",
    "        self.model.classifier = nn.Identity()\n",
    "        self.model.global_pool = nn.Identity()\n",
    "        self.pooling = GeM()\n",
    "        self.linear = nn.Linear(in_features, num_classes)\n",
    "        self.softmax = nn.Softmax(dim=1)\n",
    "\n",
    "    def forward(self, images):\n",
    "        features = self.model(images)\n",
    "        pooled_features = self.pooling(features).flatten(1)\n",
    "        output = self.linear(pooled_features)\n",
    "        return output\n",
    "\n",
    "    \n"
   ]
  },
  {
   "cell_type": "code",
   "execution_count": 13,
   "id": "e743af18",
   "metadata": {
    "execution": {
     "iopub.execute_input": "2023-11-02T05:45:46.814871Z",
     "iopub.status.busy": "2023-11-02T05:45:46.814637Z",
     "iopub.status.idle": "2023-11-02T05:45:51.234768Z",
     "shell.execute_reply": "2023-11-02T05:45:51.233912Z"
    },
    "papermill": {
     "duration": 4.429947,
     "end_time": "2023-11-02T05:45:51.236816",
     "exception": false,
     "start_time": "2023-11-02T05:45:46.806869",
     "status": "completed"
    },
    "tags": []
   },
   "outputs": [
    {
     "data": {
      "text/plain": [
       "\"\\nmodel2 = UBCModel(CONFIG['model_name'], CONFIG['num_classes'])\\nmodel2.load_state_dict(torch.load( BEST_WEIGHT2 ))\\nmodel2.to(CONFIG['device'])\\n\\nmodel3 = UBCModel(CONFIG['model_name'], CONFIG['num_classes'])\\nmodel3.load_state_dict(torch.load( BEST_WEIGHT3 ))\\nmodel3.to(CONFIG['device'])\\n\\n#model4 = UBCModel(CONFIG['model_name'], CONFIG['num_classes'])\\n#model4.load_state_dict(torch.load( BEST_WEIGHT4 ))\\n#model4.to(CONFIG['device'])\\n\""
      ]
     },
     "execution_count": 13,
     "metadata": {},
     "output_type": "execute_result"
    }
   ],
   "source": [
    "model1 = UBCModel(CONFIG['model_name'], CONFIG['num_classes'])\n",
    "model1.load_state_dict(torch.load( BEST_WEIGHT1 ))\n",
    "model1.to(CONFIG['device'])\n",
    "\"\"\"\n",
    "model2 = UBCModel(CONFIG['model_name'], CONFIG['num_classes'])\n",
    "model2.load_state_dict(torch.load( BEST_WEIGHT2 ))\n",
    "model2.to(CONFIG['device'])\n",
    "\n",
    "model3 = UBCModel(CONFIG['model_name'], CONFIG['num_classes'])\n",
    "model3.load_state_dict(torch.load( BEST_WEIGHT3 ))\n",
    "model3.to(CONFIG['device'])\n",
    "\n",
    "#model4 = UBCModel(CONFIG['model_name'], CONFIG['num_classes'])\n",
    "#model4.load_state_dict(torch.load( BEST_WEIGHT4 ))\n",
    "#model4.to(CONFIG['device'])\n",
    "\"\"\""
   ]
  },
  {
   "cell_type": "markdown",
   "id": "a35aac36",
   "metadata": {
    "papermill": {
     "duration": 0.007888,
     "end_time": "2023-11-02T05:45:51.252238",
     "exception": false,
     "start_time": "2023-11-02T05:45:51.244350",
     "status": "completed"
    },
    "tags": []
   },
   "source": [
    "<span style=\"color: #000508; font-family: Segoe UI; font-size: 1.5em; font-weight: 300;\">Prepare Dataloaders</span>"
   ]
  },
  {
   "cell_type": "code",
   "execution_count": 14,
   "id": "f6349354",
   "metadata": {
    "execution": {
     "iopub.execute_input": "2023-11-02T05:45:51.268709Z",
     "iopub.status.busy": "2023-11-02T05:45:51.268431Z",
     "iopub.status.idle": "2023-11-02T05:45:51.273603Z",
     "shell.execute_reply": "2023-11-02T05:45:51.272697Z"
    },
    "papermill": {
     "duration": 0.01556,
     "end_time": "2023-11-02T05:45:51.275402",
     "exception": false,
     "start_time": "2023-11-02T05:45:51.259842",
     "status": "completed"
    },
    "tags": []
   },
   "outputs": [],
   "source": [
    "test_dataset = UBCDataset(df, transforms=data_transforms[\"valid\"])\n",
    "test_loader = DataLoader(test_dataset, batch_size=CONFIG['valid_batch_size'], \n",
    "                          num_workers=2, shuffle=False, pin_memory=True)"
   ]
  },
  {
   "cell_type": "markdown",
   "id": "01fc1b74",
   "metadata": {
    "papermill": {
     "duration": 0.007064,
     "end_time": "2023-11-02T05:45:51.289691",
     "exception": false,
     "start_time": "2023-11-02T05:45:51.282627",
     "status": "completed"
    },
    "tags": []
   },
   "source": [
    "<span style=\"color: #000508; font-family: Segoe UI; font-size: 1.5em; font-weight: 300;\">Start Inference</span>"
   ]
  },
  {
   "cell_type": "code",
   "execution_count": 15,
   "id": "332e97f1",
   "metadata": {
    "execution": {
     "iopub.execute_input": "2023-11-02T05:45:51.305394Z",
     "iopub.status.busy": "2023-11-02T05:45:51.305117Z",
     "iopub.status.idle": "2023-11-02T05:45:56.544039Z",
     "shell.execute_reply": "2023-11-02T05:45:56.542855Z"
    },
    "papermill": {
     "duration": 5.249082,
     "end_time": "2023-11-02T05:45:56.546140",
     "exception": false,
     "start_time": "2023-11-02T05:45:51.297058",
     "status": "completed"
    },
    "tags": []
   },
   "outputs": [
    {
     "name": "stderr",
     "output_type": "stream",
     "text": [
      "100%|██████████| 1/1 [00:05<00:00,  5.16s/it]\n"
     ]
    }
   ],
   "source": [
    "preds = []\n",
    "with torch.no_grad():\n",
    "    bar = tqdm(enumerate(test_loader), total=len(test_loader))\n",
    "    for step, data in bar:        \n",
    "        images = data['image'].to(CONFIG[\"device\"], dtype=torch.float)        \n",
    "        batch_size = images.size(0)\n",
    "        outputs = model1(images)\n",
    "        #outputs += model2(images) + model3(images)\n",
    "        #outputs /= 3.0\n",
    "        _, predicted = torch.max(model1.softmax(outputs), 1)\n",
    "        preds.append( predicted.detach().cpu().numpy() )\n",
    "preds = np.concatenate(preds).flatten()\n",
    "pred_labels = encoder.inverse_transform( preds )"
   ]
  },
  {
   "cell_type": "code",
   "execution_count": 16,
   "id": "33bed140",
   "metadata": {
    "execution": {
     "iopub.execute_input": "2023-11-02T05:45:56.562812Z",
     "iopub.status.busy": "2023-11-02T05:45:56.562531Z",
     "iopub.status.idle": "2023-11-02T05:45:56.571228Z",
     "shell.execute_reply": "2023-11-02T05:45:56.570553Z"
    },
    "papermill": {
     "duration": 0.019212,
     "end_time": "2023-11-02T05:45:56.573091",
     "exception": false,
     "start_time": "2023-11-02T05:45:56.553879",
     "status": "completed"
    },
    "tags": []
   },
   "outputs": [],
   "source": [
    "df_sub[\"label\"] = pred_labels\n",
    "df_sub.to_csv(\"submission.csv\", index=False)"
   ]
  },
  {
   "cell_type": "code",
   "execution_count": 17,
   "id": "0d4ad27b",
   "metadata": {
    "execution": {
     "iopub.execute_input": "2023-11-02T05:45:56.589289Z",
     "iopub.status.busy": "2023-11-02T05:45:56.589048Z",
     "iopub.status.idle": "2023-11-02T05:45:56.597214Z",
     "shell.execute_reply": "2023-11-02T05:45:56.596332Z"
    },
    "papermill": {
     "duration": 0.018426,
     "end_time": "2023-11-02T05:45:56.599171",
     "exception": false,
     "start_time": "2023-11-02T05:45:56.580745",
     "status": "completed"
    },
    "tags": []
   },
   "outputs": [
    {
     "data": {
      "text/html": [
       "<div>\n",
       "<style scoped>\n",
       "    .dataframe tbody tr th:only-of-type {\n",
       "        vertical-align: middle;\n",
       "    }\n",
       "\n",
       "    .dataframe tbody tr th {\n",
       "        vertical-align: top;\n",
       "    }\n",
       "\n",
       "    .dataframe thead th {\n",
       "        text-align: right;\n",
       "    }\n",
       "</style>\n",
       "<table border=\"1\" class=\"dataframe\">\n",
       "  <thead>\n",
       "    <tr style=\"text-align: right;\">\n",
       "      <th></th>\n",
       "      <th>image_id</th>\n",
       "      <th>label</th>\n",
       "    </tr>\n",
       "  </thead>\n",
       "  <tbody>\n",
       "    <tr>\n",
       "      <th>0</th>\n",
       "      <td>41</td>\n",
       "      <td>HGSC</td>\n",
       "    </tr>\n",
       "  </tbody>\n",
       "</table>\n",
       "</div>"
      ],
      "text/plain": [
       "   image_id label\n",
       "0        41  HGSC"
      ]
     },
     "execution_count": 17,
     "metadata": {},
     "output_type": "execute_result"
    }
   ],
   "source": [
    "df_sub"
   ]
  },
  {
   "cell_type": "code",
   "execution_count": null,
   "id": "0541e521",
   "metadata": {
    "papermill": {
     "duration": 0.007609,
     "end_time": "2023-11-02T05:45:56.614810",
     "exception": false,
     "start_time": "2023-11-02T05:45:56.607201",
     "status": "completed"
    },
    "tags": []
   },
   "outputs": [],
   "source": []
  }
 ],
 "metadata": {
  "kernelspec": {
   "display_name": "Python 3",
   "language": "python",
   "name": "python3"
  },
  "language_info": {
   "codemirror_mode": {
    "name": "ipython",
    "version": 3
   },
   "file_extension": ".py",
   "mimetype": "text/x-python",
   "name": "python",
   "nbconvert_exporter": "python",
   "pygments_lexer": "ipython3",
   "version": "3.10.12"
  },
  "papermill": {
   "default_parameters": {},
   "duration": 23.526517,
   "end_time": "2023-11-02T05:45:58.545485",
   "environment_variables": {},
   "exception": null,
   "input_path": "__notebook__.ipynb",
   "output_path": "__notebook__.ipynb",
   "parameters": {},
   "start_time": "2023-11-02T05:45:35.018968",
   "version": "2.4.0"
  }
 },
 "nbformat": 4,
 "nbformat_minor": 5
}
